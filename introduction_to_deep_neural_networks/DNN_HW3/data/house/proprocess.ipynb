{
 "metadata": {
  "language_info": {
   "codemirror_mode": {
    "name": "ipython",
    "version": 3
   },
   "file_extension": ".py",
   "mimetype": "text/x-python",
   "name": "python",
   "nbconvert_exporter": "python",
   "pygments_lexer": "ipython3",
   "version": "3.8.5-final"
  },
  "orig_nbformat": 2,
  "kernelspec": {
   "name": "python3",
   "display_name": "Python 3.8.5 64-bit (conda)",
   "metadata": {
    "interpreter": {
     "hash": "6d46af94c2bbce495f1e668725902fa517c90b1782bcfe2fce0dd9868df553d3"
    }
   }
  }
 },
 "nbformat": 4,
 "nbformat_minor": 2,
 "cells": [
  {
   "cell_type": "code",
   "execution_count": 10,
   "metadata": {},
   "outputs": [
    {
     "output_type": "execute_result",
     "data": {
      "text/plain": [
       "      CRIM    ZN  INDUS  CHAS    NOX     RM   AGE     DIS  RAD    TAX  \\\n",
       "0  0.00632  18.0   2.31     0  0.538  6.575  65.2  4.0900    1  296.0   \n",
       "1  0.02731   0.0   7.07     0  0.469  6.421  78.9  4.9671    2  242.0   \n",
       "2  0.02729   0.0   7.07     0  0.469  7.185  61.1  4.9671    2  242.0   \n",
       "3  0.03237   0.0   2.18     0  0.458  6.998  45.8  6.0622    3  222.0   \n",
       "4  0.06905   0.0   2.18     0  0.458  7.147  54.2  6.0622    3  222.0   \n",
       "\n",
       "   PTRATIO       B  LSTAT  MIDV  \n",
       "0     15.3  396.90   4.98  24.0  \n",
       "1     17.8  396.90   9.14  21.6  \n",
       "2     17.8  392.83   4.03  34.7  \n",
       "3     18.7  394.63   2.94  33.4  \n",
       "4     18.7  396.90   5.33  36.2  "
      ],
      "text/html": "<div>\n<style scoped>\n    .dataframe tbody tr th:only-of-type {\n        vertical-align: middle;\n    }\n\n    .dataframe tbody tr th {\n        vertical-align: top;\n    }\n\n    .dataframe thead th {\n        text-align: right;\n    }\n</style>\n<table border=\"1\" class=\"dataframe\">\n  <thead>\n    <tr style=\"text-align: right;\">\n      <th></th>\n      <th>CRIM</th>\n      <th>ZN</th>\n      <th>INDUS</th>\n      <th>CHAS</th>\n      <th>NOX</th>\n      <th>RM</th>\n      <th>AGE</th>\n      <th>DIS</th>\n      <th>RAD</th>\n      <th>TAX</th>\n      <th>PTRATIO</th>\n      <th>B</th>\n      <th>LSTAT</th>\n      <th>MIDV</th>\n    </tr>\n  </thead>\n  <tbody>\n    <tr>\n      <th>0</th>\n      <td>0.00632</td>\n      <td>18.0</td>\n      <td>2.31</td>\n      <td>0</td>\n      <td>0.538</td>\n      <td>6.575</td>\n      <td>65.2</td>\n      <td>4.0900</td>\n      <td>1</td>\n      <td>296.0</td>\n      <td>15.3</td>\n      <td>396.90</td>\n      <td>4.98</td>\n      <td>24.0</td>\n    </tr>\n    <tr>\n      <th>1</th>\n      <td>0.02731</td>\n      <td>0.0</td>\n      <td>7.07</td>\n      <td>0</td>\n      <td>0.469</td>\n      <td>6.421</td>\n      <td>78.9</td>\n      <td>4.9671</td>\n      <td>2</td>\n      <td>242.0</td>\n      <td>17.8</td>\n      <td>396.90</td>\n      <td>9.14</td>\n      <td>21.6</td>\n    </tr>\n    <tr>\n      <th>2</th>\n      <td>0.02729</td>\n      <td>0.0</td>\n      <td>7.07</td>\n      <td>0</td>\n      <td>0.469</td>\n      <td>7.185</td>\n      <td>61.1</td>\n      <td>4.9671</td>\n      <td>2</td>\n      <td>242.0</td>\n      <td>17.8</td>\n      <td>392.83</td>\n      <td>4.03</td>\n      <td>34.7</td>\n    </tr>\n    <tr>\n      <th>3</th>\n      <td>0.03237</td>\n      <td>0.0</td>\n      <td>2.18</td>\n      <td>0</td>\n      <td>0.458</td>\n      <td>6.998</td>\n      <td>45.8</td>\n      <td>6.0622</td>\n      <td>3</td>\n      <td>222.0</td>\n      <td>18.7</td>\n      <td>394.63</td>\n      <td>2.94</td>\n      <td>33.4</td>\n    </tr>\n    <tr>\n      <th>4</th>\n      <td>0.06905</td>\n      <td>0.0</td>\n      <td>2.18</td>\n      <td>0</td>\n      <td>0.458</td>\n      <td>7.147</td>\n      <td>54.2</td>\n      <td>6.0622</td>\n      <td>3</td>\n      <td>222.0</td>\n      <td>18.7</td>\n      <td>396.90</td>\n      <td>5.33</td>\n      <td>36.2</td>\n    </tr>\n  </tbody>\n</table>\n</div>"
     },
     "metadata": {},
     "execution_count": 10
    }
   ],
   "source": [
    "import pandas as pd\n",
    "import numpy as np\n",
    "\n",
    "df = pd.read_csv('./housing.data.txt', header=None, names=['CRIM','ZN','INDUS','CHAS','NOX','RM','AGE','DIS','RAD','TAX','PTRATIO','B','LSTAT','MIDV'], sep = '\\s+')\n",
    "\n",
    "df.head()"
   ]
  },
  {
   "cell_type": "code",
   "execution_count": 14,
   "metadata": {},
   "outputs": [
    {
     "output_type": "stream",
     "name": "stderr",
     "text": [
      "<frozen importlib._bootstrap>:219: RuntimeWarning: numpy.ufunc size changed, may indicate binary incompatibility. Expected 192 from C header, got 216 from PyObject\n",
      "<frozen importlib._bootstrap>:219: RuntimeWarning: numpy.ufunc size changed, may indicate binary incompatibility. Expected 192 from C header, got 216 from PyObject\n"
     ]
    }
   ],
   "source": [
    "from sklearn.model_selection import train_test_split\n",
    "\n",
    "train_df, test_df = train_test_split(df, test_size=0.2)"
   ]
  },
  {
   "cell_type": "code",
   "execution_count": 22,
   "metadata": {},
   "outputs": [],
   "source": [
    "train_df.to_csv('./train.csv', index=False, float_format='%.1f')\n",
    "test_df.to_csv('./test.csv', index=False, float_format='%.1f')"
   ]
  },
  {
   "cell_type": "code",
   "execution_count": 16,
   "metadata": {},
   "outputs": [
    {
     "output_type": "execute_result",
     "data": {
      "text/plain": [
       "             CRIM          ZN       INDUS        CHAS         NOX          RM  \\\n",
       "count  102.000000  102.000000  102.000000  102.000000  102.000000  102.000000   \n",
       "mean     3.054890    9.705882   10.873725    0.068627    0.555811    6.351716   \n",
       "std      6.783488   19.583706    6.422616    0.254068    0.108986    0.643330   \n",
       "min      0.013600    0.000000    1.520000    0.000000    0.392000    4.652000   \n",
       "25%      0.082492    0.000000    5.400000    0.000000    0.450000    5.935250   \n",
       "50%      0.257625    0.000000    9.125000    0.000000    0.538000    6.209000   \n",
       "75%      3.067635   12.500000   18.100000    0.000000    0.643000    6.592500   \n",
       "max     41.529200   82.500000   25.650000    1.000000    0.871000    8.780000   \n",
       "\n",
       "              AGE         DIS         RAD         TAX     PTRATIO           B  \\\n",
       "count  102.000000  102.000000  102.000000  102.000000  102.000000  102.000000   \n",
       "mean    68.084314    3.765130    9.352941  404.715686   18.415686  346.048529   \n",
       "std     25.891926    1.873226    8.707169  164.997832    2.274949  111.151451   \n",
       "min     15.800000    1.169100    1.000000  188.000000   12.600000    0.320000   \n",
       "25%     45.450000    2.317750    4.000000  279.000000   16.825000  376.972500   \n",
       "50%     77.350000    3.153900    5.000000  329.500000   19.100000  392.360000   \n",
       "75%     91.300000    5.162450   20.000000  616.750000   20.200000  396.780000   \n",
       "max    100.000000    9.220300   24.000000  666.000000   21.200000  396.900000   \n",
       "\n",
       "            LSTAT        MIDV  \n",
       "count  102.000000  102.000000  \n",
       "mean    12.188627   22.170588  \n",
       "std      6.036979    8.859929  \n",
       "min      1.920000    8.300000  \n",
       "25%      7.725000   16.650000  \n",
       "50%     11.295000   20.800000  \n",
       "75%     15.025000   24.050000  \n",
       "max     29.290000   50.000000  "
      ],
      "text/html": "<div>\n<style scoped>\n    .dataframe tbody tr th:only-of-type {\n        vertical-align: middle;\n    }\n\n    .dataframe tbody tr th {\n        vertical-align: top;\n    }\n\n    .dataframe thead th {\n        text-align: right;\n    }\n</style>\n<table border=\"1\" class=\"dataframe\">\n  <thead>\n    <tr style=\"text-align: right;\">\n      <th></th>\n      <th>CRIM</th>\n      <th>ZN</th>\n      <th>INDUS</th>\n      <th>CHAS</th>\n      <th>NOX</th>\n      <th>RM</th>\n      <th>AGE</th>\n      <th>DIS</th>\n      <th>RAD</th>\n      <th>TAX</th>\n      <th>PTRATIO</th>\n      <th>B</th>\n      <th>LSTAT</th>\n      <th>MIDV</th>\n    </tr>\n  </thead>\n  <tbody>\n    <tr>\n      <th>count</th>\n      <td>102.000000</td>\n      <td>102.000000</td>\n      <td>102.000000</td>\n      <td>102.000000</td>\n      <td>102.000000</td>\n      <td>102.000000</td>\n      <td>102.000000</td>\n      <td>102.000000</td>\n      <td>102.000000</td>\n      <td>102.000000</td>\n      <td>102.000000</td>\n      <td>102.000000</td>\n      <td>102.000000</td>\n      <td>102.000000</td>\n    </tr>\n    <tr>\n      <th>mean</th>\n      <td>3.054890</td>\n      <td>9.705882</td>\n      <td>10.873725</td>\n      <td>0.068627</td>\n      <td>0.555811</td>\n      <td>6.351716</td>\n      <td>68.084314</td>\n      <td>3.765130</td>\n      <td>9.352941</td>\n      <td>404.715686</td>\n      <td>18.415686</td>\n      <td>346.048529</td>\n      <td>12.188627</td>\n      <td>22.170588</td>\n    </tr>\n    <tr>\n      <th>std</th>\n      <td>6.783488</td>\n      <td>19.583706</td>\n      <td>6.422616</td>\n      <td>0.254068</td>\n      <td>0.108986</td>\n      <td>0.643330</td>\n      <td>25.891926</td>\n      <td>1.873226</td>\n      <td>8.707169</td>\n      <td>164.997832</td>\n      <td>2.274949</td>\n      <td>111.151451</td>\n      <td>6.036979</td>\n      <td>8.859929</td>\n    </tr>\n    <tr>\n      <th>min</th>\n      <td>0.013600</td>\n      <td>0.000000</td>\n      <td>1.520000</td>\n      <td>0.000000</td>\n      <td>0.392000</td>\n      <td>4.652000</td>\n      <td>15.800000</td>\n      <td>1.169100</td>\n      <td>1.000000</td>\n      <td>188.000000</td>\n      <td>12.600000</td>\n      <td>0.320000</td>\n      <td>1.920000</td>\n      <td>8.300000</td>\n    </tr>\n    <tr>\n      <th>25%</th>\n      <td>0.082492</td>\n      <td>0.000000</td>\n      <td>5.400000</td>\n      <td>0.000000</td>\n      <td>0.450000</td>\n      <td>5.935250</td>\n      <td>45.450000</td>\n      <td>2.317750</td>\n      <td>4.000000</td>\n      <td>279.000000</td>\n      <td>16.825000</td>\n      <td>376.972500</td>\n      <td>7.725000</td>\n      <td>16.650000</td>\n    </tr>\n    <tr>\n      <th>50%</th>\n      <td>0.257625</td>\n      <td>0.000000</td>\n      <td>9.125000</td>\n      <td>0.000000</td>\n      <td>0.538000</td>\n      <td>6.209000</td>\n      <td>77.350000</td>\n      <td>3.153900</td>\n      <td>5.000000</td>\n      <td>329.500000</td>\n      <td>19.100000</td>\n      <td>392.360000</td>\n      <td>11.295000</td>\n      <td>20.800000</td>\n    </tr>\n    <tr>\n      <th>75%</th>\n      <td>3.067635</td>\n      <td>12.500000</td>\n      <td>18.100000</td>\n      <td>0.000000</td>\n      <td>0.643000</td>\n      <td>6.592500</td>\n      <td>91.300000</td>\n      <td>5.162450</td>\n      <td>20.000000</td>\n      <td>616.750000</td>\n      <td>20.200000</td>\n      <td>396.780000</td>\n      <td>15.025000</td>\n      <td>24.050000</td>\n    </tr>\n    <tr>\n      <th>max</th>\n      <td>41.529200</td>\n      <td>82.500000</td>\n      <td>25.650000</td>\n      <td>1.000000</td>\n      <td>0.871000</td>\n      <td>8.780000</td>\n      <td>100.000000</td>\n      <td>9.220300</td>\n      <td>24.000000</td>\n      <td>666.000000</td>\n      <td>21.200000</td>\n      <td>396.900000</td>\n      <td>29.290000</td>\n      <td>50.000000</td>\n    </tr>\n  </tbody>\n</table>\n</div>"
     },
     "metadata": {},
     "execution_count": 16
    }
   ],
   "source": []
  },
  {
   "cell_type": "code",
   "execution_count": null,
   "metadata": {},
   "outputs": [],
   "source": []
  }
 ]
}