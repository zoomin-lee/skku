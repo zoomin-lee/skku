{
 "cells": [
  {
   "cell_type": "markdown",
   "id": "4a41fa2a",
   "metadata": {},
   "source": [
    "## Shortcut keys\n",
    "- shift + enter : 실행하고 다음셀\n",
    "- alt + enter : 실행하고 새로운셀 생성\n",
    "- ctrl + enter : 실행\n",
    "- 커멘드 모드(파랑색)에서 dd 누르면 삭제 \n",
    "- shift + M : 셀 병합\n",
    "- shift + ctrl + - : 셀 분할(커서 기준)\n",
    "- 커멘드 모드에서 a 누르면 위에 셀 생성\n",
    "- 커맨드 모드에서 b 누르면 아래에 셀 생성\n",
    "- 커맨드 모드에서 m 누르면 markdown 모드로 변경\n",
    "- shift + tab : 함수안에서 쓰면 parameter 확인 가능"
   ]
  },
  {
   "cell_type": "code",
   "execution_count": null,
   "id": "b86a548a",
   "metadata": {},
   "outputs": [],
   "source": []
  }
 ],
 "metadata": {
  "kernelspec": {
   "display_name": "Python 3",
   "language": "python",
   "name": "python3"
  },
  "language_info": {
   "codemirror_mode": {
    "name": "ipython",
    "version": 3
   },
   "file_extension": ".py",
   "mimetype": "text/x-python",
   "name": "python",
   "nbconvert_exporter": "python",
   "pygments_lexer": "ipython3",
   "version": "3.8.10"
  }
 },
 "nbformat": 4,
 "nbformat_minor": 5
}
